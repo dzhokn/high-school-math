{
 "cells": [
  {
   "cell_type": "markdown",
   "metadata": {},
   "source": [
    "### Solving equations with Python\n",
    "Let's first do some symbolic computation. We need to import `sympy` first. \n",
    "\n",
    "**Should your imports be in a single cell at the top or should they appear as they are used?** There's not a single valid best practice. Most people seem to prefer imports at the top of the file though. **Note: If you write new code in a cell, you have to re-execute it!**\n",
    "\n",
    "Let's use `sympy` to give us a quick symbolic solution to our equation. First import `sympy` (you can use the second cell in this notebook): \n",
    "```python \n",
    "import sympy \n",
    "```\n",
    "\n",
    "Next, create symbols for all variables and parameters. You may prefer to do this in one pass or separately:\n",
    "```python \n",
    "x = sympy.symbols('x')\n",
    "a, b, c = sympy.symbols('a b c')\n",
    "```\n",
    "\n",
    "Now solve:\n",
    "```python \n",
    "sympy.solve(a * x**2 + b * x + c)\n",
    "```"
   ]
  },
  {
   "cell_type": "code",
   "execution_count": 40,
   "metadata": {},
   "outputs": [],
   "source": [
    "import sympy as sp  # Sympy is a library for symbolic mathematics in Python.\n",
    "import cmath        # Needed for work with complex numbers\n",
    "import math"
   ]
  },
  {
   "cell_type": "code",
   "execution_count": 41,
   "metadata": {},
   "outputs": [
    {
     "data": {
      "image/png": "[encoded data removed]",
      "text/latex": [
       "$\\displaystyle \\left[ \\left\\{ a : \\frac{- b x - c}{x^{2}}\\right\\}\\right]$"
      ],
      "text/plain": [
       "⎡⎧   -b⋅x - c⎫⎤\n",
       "⎢⎪a: ────────⎪⎥\n",
       "⎢⎨       2   ⎬⎥\n",
       "⎢⎪      x    ⎪⎥\n",
       "⎣⎩           ⎭⎦"
      ]
     },
     "execution_count": 41,
     "metadata": {},
     "output_type": "execute_result"
    }
   ],
   "source": [
    "# Define the equation parameters\n",
    "x, a, b, c = sp.symbols('x a b c')\n",
    "\n",
    "# Define the equation\n",
    "quadratic = a*x**2 + b*x + c\n",
    "\n",
    "# Instruct sympy to visualize all prints in LaTex format.\n",
    "sp.init_printing()\n",
    "\n",
    "# Solve the equation.\n",
    "sp.solve(quadratic)"
   ]
  },
  {
   "cell_type": "markdown",
   "metadata": {},
   "source": [
    "Hmmmm... we didn't expect that :(. We got an expression for $a$ because the library tried to solve for the first symbol it saw. This is an equation and we have to solve for $x$. We can provide it as a second parameter:\n",
    "```python \n",
    "sympy.solve(a * x**2 + b * x + c, x)\n",
    "```\n",
    "\n",
    "To finish off, if we start with `sympy.init_printing()`, we'll get a LaTeX-formatted result instead of a typed one. This is very useful because it produces better-looking formulas.\n",
    "\n",
    "**Note:** This means we have to add the line BEFORE we start working with `sympy`. TYou mitght need to restart (and re-execute) all cells for this change to take effect."
   ]
  },
  {
   "cell_type": "code",
   "execution_count": 42,
   "metadata": {},
   "outputs": [
    {
     "data": {
      "image/png": "[encoded data removed]",
      "text/latex": [
       "$\\displaystyle \\left[ \\frac{- b - \\sqrt{- 4 a c + b^{2}}}{2 a}, \\  \\frac{- b + \\sqrt{- 4 a c + b^{2}}}{2 a}\\right]$"
      ],
      "text/plain": [
       "⎡        _____________          _____________⎤\n",
       "⎢       ╱           2          ╱           2 ⎥\n",
       "⎢-b - ╲╱  -4⋅a⋅c + b    -b + ╲╱  -4⋅a⋅c + b  ⎥\n",
       "⎢─────────────────────, ─────────────────────⎥\n",
       "⎣         2⋅a                    2⋅a         ⎦"
      ]
     },
     "execution_count": 42,
     "metadata": {},
     "output_type": "execute_result"
    }
   ],
   "source": [
    "# Solve the equation.\n",
    "sp.solve(quadratic, x)"
   ]
  },
  {
   "cell_type": "code",
   "execution_count": 43,
   "metadata": {},
   "outputs": [],
   "source": [
    "# Disable the pretty print (we don't need it in the next problems).\n",
    "sp.init_printing(pretty_print=False)"
   ]
  },
  {
   "cell_type": "markdown",
   "metadata": {},
   "source": [
    "How about a function that takes $a,\\ b,\\ c$ (assume they are real numbers, you don't need to do additional checks on them) and returns the **real** roots of the quadratic equation?\n",
    "\n",
    "Remember that in order to calculate the roots, we first need to see whether the expression under the square root sign is non-negative.\n",
    "\n",
    "If $b^2 - 4ac > 0$, the equation has two real roots: $x_1, x_2$\n",
    "\n",
    "If $b^2 - 4ac = 0$, the equation has one real root: $x_1 = x_2$\n",
    "\n",
    "If $b^2 - 4ac < 0$, the equation has zero real roots\n",
    "\n",
    "Write a function which returns the roots. In the first case, return a list of 2 numbers: `[2, 3]`. In the second case, return a list of only one number: `[2]`. In the third case, return an empty list: `[]`."
   ]
  },
  {
   "cell_type": "code",
   "execution_count": 44,
   "metadata": {},
   "outputs": [],
   "source": [
    "def solve_quadratic_equation(a: float, b: float, c: float) -> list:\n",
    "    \"\"\"\n",
    "    Returns the real solutions of the quadratic equation ax^2 + bx + c = 0\\n\n",
    "    Returns an *empty* array in case the discriminant is negative.\\n\n",
    "    Returns an array with 1 float number in case the discriminant is equal to 0.\\n\n",
    "    Returns an array with 2 float numbers in case the discriminant is positive.\n",
    "\n",
    "    Args:\n",
    "      a (float): Real number\n",
    "      b (float): Real number\n",
    "      c (float): Real number\n",
    "\n",
    "    Returns:\n",
    "      solutions (list): List of solutions for x\n",
    "    \"\"\"\n",
    "    # Define a helper function for calculating x\n",
    "    def calc_x(a: float, b: float, discr: float, sign: int = 1) -> float:\n",
    "        return (-b + sign * math.sqrt(discr))/(2*a)\n",
    "\n",
    "    # Calculate the discriminant.\n",
    "    discr: float = b**2 - 4 * a * c\n",
    "    # CASE 1: negative discriminant => no solutions\n",
    "    if discr < 0:\n",
    "        return []\n",
    "    # CASE 2: non-negative discriminant, but a == 0 (BONUS 1)\n",
    "    if a == 0:\n",
    "        return [-c/b]\n",
    "    # CASE 3: non-negative discriminant and non-zero a => a list of 2 solutions (the two values might be the same)\n",
    "    solutions = [calc_x(a, b, discr), calc_x(a, b, discr, -1)]\n",
    "    # Eliminate the duplicated solutions by converting list->set->list. Lastly, sort the output list (in case there are 2 solutions).\n",
    "    return sorted(list(set(solutions)))"
   ]
  },
  {
   "cell_type": "code",
   "execution_count": 45,
   "metadata": {},
   "outputs": [
    {
     "name": "stdout",
     "output_type": "stream",
     "text": [
      "[-1.0, 2.0]\n",
      "[4.0]\n",
      "[]\n"
     ]
    }
   ],
   "source": [
    "# Testing: Execute this cell. The outputs should match the expected outputs. Feel free to write more tests\n",
    "print(solve_quadratic_equation(1, -1, -2))  # [-1.0, 2.0]\n",
    "print(solve_quadratic_equation(1, -8, 16))  # [4.0]\n",
    "print(solve_quadratic_equation(1, 1, 1))    # []"
   ]
  },
  {
   "cell_type": "markdown",
   "metadata": {},
   "source": [
    "**Bonus 1:** Last time we saw how to solve a linear equation. Remember that linear equations are just like quadratic equations with $a = 0$. In this case, however, division by 0 will throw an error. Extend your function above to support solving linear equations as well."
   ]
  },
  {
   "cell_type": "code",
   "execution_count": 46,
   "metadata": {},
   "outputs": [
    {
     "name": "stdout",
     "output_type": "stream",
     "text": [
      "[-2.0]\n",
      "[-1.0]\n"
     ]
    }
   ],
   "source": [
    "print(solve_quadratic_equation(0, -1, -2))  # [-2.0]\n",
    "print(solve_quadratic_equation(0, 1, 1))    # [-1.0]"
   ]
  },
  {
   "cell_type": "markdown",
   "metadata": {},
   "source": [
    "\n",
    "**Bonus 2:** Actually, every quadratic equation (with a non-zero leading term $a$) has exactly two solutions. Find out what they are, why there are two of them, and how to compute them. If you've followed the steps outlined above, _you should add a single letter_ somewhere in your code to always obtain the two solutions to the quadratic equation."
   ]
  },
  {
   "cell_type": "code",
   "execution_count": 47,
   "metadata": {},
   "outputs": [],
   "source": [
    "# BONUS 2 implementation (using complex numbers)\n",
    "def solve_quadratic_equation_for_complex(a: complex, b: complex, c: complex) -> list[complex, complex]:\n",
    "    \"\"\"\n",
    "    Returns the complex solutions of the quadratic equation ax^2 + bx + c = 0\n",
    "\n",
    "    Args:\n",
    "      a (float): Complex number\n",
    "      b (float): Complex number\n",
    "      c (float): Complex number\n",
    "\n",
    "    Returns:\n",
    "      solutions (list): List of solutions for x. There are always two solutions, even if the discriminant is negative. \n",
    "      However, the two solutions might have the same value.\n",
    "    \"\"\"\n",
    "    # Calculate the discriminant.\n",
    "    discr: complex = b**2 - 4 * a * c\n",
    "    # Calculate the two solutions\n",
    "    solutions = [(-b + cmath.sqrt(discr))/(2*a), (-b - cmath.sqrt(discr))/(2*a)]\n",
    "    # Eliminate the duplicated solutions by converting list->set->list.\n",
    "    return sorted(solutions, key=abs)  # or  np.sort_complex(solutions)"
   ]
  },
  {
   "cell_type": "code",
   "execution_count": 48,
   "metadata": {},
   "outputs": [
    {
     "name": "stdout",
     "output_type": "stream",
     "text": [
      "[(-1+0j), (2+0j)]\n",
      "[(4+0j), (4+0j)]\n",
      "[(-0.5+0.8660254037844386j), (-0.5-0.8660254037844386j)]\n"
     ]
    }
   ],
   "source": [
    "print(solve_quadratic_equation_for_complex(1, -1, -2)) # [-1.0j, 2.0j]\n",
    "print(solve_quadratic_equation_for_complex(1, -8, 16)) # [(4+0j), (4+0j)]\n",
    "print(solve_quadratic_equation_for_complex(1, 1, 1)) # [(-0.5-0.8660254037844386j), (-0.5+0.8660254037844386j)]"
   ]
  }
 ],
 "metadata": {
  "kernelspec": {
   "display_name": "Python 3",
   "language": "python",
   "name": "python3"
  },
  "language_info": {
   "codemirror_mode": {
    "name": "ipython",
    "version": 3
   },
   "file_extension": ".py",
   "mimetype": "text/x-python",
   "name": "python",
   "nbconvert_exporter": "python",
   "pygments_lexer": "ipython3",
   "version": "3.13.2"
  }
 },
 "nbformat": 4,
 "nbformat_minor": 2
}
