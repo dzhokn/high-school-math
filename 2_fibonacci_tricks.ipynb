{
 "cells": [
  {
   "cell_type": "markdown",
   "metadata": {},
   "source": [
    "### Some tricks with Python functions\n",
    "For simplicity and conciseness, we sometimes tend to write shorter for-loops in Python. Sometimes, it's even better to write them in a single line. If we're working on lists, for example, we have [list comprehensions](https://www.geeksforgeeks.org/python-list-comprehension/) which look like this:\n",
    "```python\n",
    "my_list = [x for x in range(3)]\n",
    "```\n",
    "which is the same as\n",
    "```python\n",
    "my_list = []\n",
    "for x in range(3):\n",
    "    my_list.append(x)\n",
    "```\n",
    "but more concise and readable.\n",
    "\n",
    "Using list comprehensions (and no explicit for-loops), do the following:\n",
    "1. Create a function which generates the first $n = 20$ Fibonacci numbers as a Python `list`. Even better, generalize it to take `n` as a parameter.\n",
    "2. Apply it, and save the result in a variable.\n",
    "3. In another variable, square them\n",
    "4. In another variable, extract all odd squared numbers.\n",
    "5. Find the sum of all odd squares of the first `n` Fibonacci numbers. You won't likely need a list comprehension for this one.\n",
    "\n",
    "For a greater challenge, write 1-5 in a single expression, without intermediate variables.\n",
    "\n",
    "As an alternative, try using the Python builtins `map()`, `filter()` and `reduce()` instead of list comprehensions."
   ]
  },
  {
   "cell_type": "code",
   "execution_count": 12,
   "metadata": {},
   "outputs": [],
   "source": [
    "from functools import reduce"
   ]
  },
  {
   "cell_type": "code",
   "execution_count": 13,
   "metadata": {},
   "outputs": [],
   "source": [
    "# TASK 1 - fibonacci generator\n",
    "\n",
    "def fibonacci_numbers_ugly(n:int) -> list[int]:\n",
    "    \"\"\"\n",
    "    Fibonacci sequence generator (ugly implementation due to list comprehension with \"side effect\").\n",
    "\n",
    "    Args:\n",
    "        n (float): the count of fibonacci numbers to be generated\n",
    "\n",
    "    Returns:\n",
    "        seq (list): a list of generated fibonacci integers\n",
    "    \"\"\"\n",
    "    seq = [0, 1]\n",
    "    # NB: list comprehensions with \"side effects\" are error prone and not very declarative.\n",
    "    [seq.append(seq[i] + seq[i+1]) for i in range(0, n-2)]\n",
    "    return seq"
   ]
  },
  {
   "cell_type": "code",
   "execution_count": 14,
   "metadata": {},
   "outputs": [],
   "source": [
    "\n",
    "def fibonacci_numbers_golden_ratio(n:int) -> list[int]:\n",
    "    \"\"\"\n",
    "    Fibonacci sequence generator (list comprehension implementation with no intermediate variables). This implementation uses the golden ratio principle.\n",
    "\n",
    "    Args:\n",
    "        n (float): the count of fibonacci numbers to be generated\n",
    "\n",
    "    Returns:\n",
    "        seq (list): a list of generated fibonacci integers\n",
    "    \"\"\"\n",
    "    return [0] + [int((((1 + 5**0.5) / 2)**x - ((1 - 5**0.5) / 2)**x) / 5**0.5) for x in range(1, n)]"
   ]
  },
  {
   "cell_type": "code",
   "execution_count": 15,
   "metadata": {},
   "outputs": [
    {
     "name": "stdout",
     "output_type": "stream",
     "text": [
      "[0, 1, 1, 2, 3, 5, 8, 13, 21, 34, 55, 89, 144, 233, 377, 610, 987, 1597, 2584, 4181]\n",
      "[0, 1, 1, 2, 3, 5, 8, 13, 21, 34, 55, 89, 144, 233, 377, 610, 987, 1597, 2584, 4181]\n"
     ]
    }
   ],
   "source": [
    "print(fibonacci_numbers_ugly(20))\n",
    "print(fibonacci_numbers_golden_ratio(20))"
   ]
  },
  {
   "cell_type": "code",
   "execution_count": 16,
   "metadata": {},
   "outputs": [
    {
     "name": "stdout",
     "output_type": "stream",
     "text": [
      "[0, 1, 1, 4, 9, 25, 64, 169, 441, 1156, 3025, 7921, 20736, 54289, 142129, 372100, 974169, 2550409, 6677056, 17480761]\n"
     ]
    }
   ],
   "source": [
    "# TASK 2, 3 - Generate 20 nums and square them all\n",
    "fib = fibonacci_numbers_ugly(20)\n",
    "fib_sqr = [x**2 for x in fib]\n",
    "print(fib_sqr)"
   ]
  },
  {
   "cell_type": "code",
   "execution_count": 17,
   "metadata": {},
   "outputs": [
    {
     "name": "stdout",
     "output_type": "stream",
     "text": [
      "[1, 1, 9, 25, 169, 441, 3025, 7921, 54289, 142129, 974169, 2550409, 17480761]\n"
     ]
    }
   ],
   "source": [
    "# TASK 4 - Extract all odd squared numbers.\n",
    "fib_sqr_odd = [x for x in fib_sqr if x%2 == 1]\n",
    "print(fib_sqr_odd)"
   ]
  },
  {
   "cell_type": "code",
   "execution_count": 18,
   "metadata": {},
   "outputs": [
    {
     "name": "stdout",
     "output_type": "stream",
     "text": [
      "21213349\n"
     ]
    }
   ],
   "source": [
    "# TASK 5 - Find the sum of all these odd squares\n",
    "print(sum(fib_sqr_odd))"
   ]
  },
  {
   "cell_type": "code",
   "execution_count": 19,
   "metadata": {},
   "outputs": [
    {
     "name": "stdout",
     "output_type": "stream",
     "text": [
      "21213349\n"
     ]
    }
   ],
   "source": [
    "# BONUS 1 - [ONE-LINER - Golden Ratio] For a greater challenge, write 1-5 in a single expression, without intermediate variables.\n",
    "print(sum([x**2 for x in [0] + [int((((1 + 5**0.5) / 2)**x - ((1 - 5**0.5) / 2)**x) / 5**0.5) for x in range(1, 20)] if (x**2)%2 == 1]))"
   ]
  },
  {
   "cell_type": "code",
   "execution_count": 20,
   "metadata": {},
   "outputs": [
    {
     "name": "stdout",
     "output_type": "stream",
     "text": [
      "[0, 1, 1, 2, 3, 5, 8, 13, 21, 34, 55, 89, 144, 233, 377, 610, 987, 1597, 2584, 4181]\n"
     ]
    }
   ],
   "source": [
    "# BONUS 2 - As an alternative, use `map()`, `filter()` and `reduce()` instead of list comprehensions.\n",
    "# One-line reduce() (return list of fibonacci)\n",
    "print(reduce(lambda x, _: x+[x[-1]+x[-2]], range(20-2), [0, 1]))"
   ]
  },
  {
   "cell_type": "code",
   "execution_count": 21,
   "metadata": {},
   "outputs": [
    {
     "name": "stdout",
     "output_type": "stream",
     "text": [
      "0 1 1 4 9 25 64 169 441 1156 3025 7921 20736 54289 142129 372100 974169 2550409 6677056 17480761\n"
     ]
    }
   ],
   "source": [
    "# One-line reduce-map (return odd squares of fibonacci)\n",
    "print(*map(lambda x: x**2, reduce(lambda x, _: x+[x[-1]+x[-2]], range(20-2), [0, 1])))"
   ]
  },
  {
   "cell_type": "code",
   "execution_count": 22,
   "metadata": {},
   "outputs": [
    {
     "name": "stdout",
     "output_type": "stream",
     "text": [
      "1 1 9 25 169 441 3025 7921 54289 142129 974169 2550409 17480761\n"
     ]
    }
   ],
   "source": [
    "# One-line reduce-map-filter (return only odd squares of fibonacci)\n",
    "print(*filter(lambda x: x%2==1, map(lambda x: x**2, reduce(lambda x, _: x+[x[-1]+x[-2]], range(20-2), [0, 1]))))"
   ]
  },
  {
   "cell_type": "code",
   "execution_count": 23,
   "metadata": {},
   "outputs": [
    {
     "name": "stdout",
     "output_type": "stream",
     "text": [
      "21213349\n"
     ]
    }
   ],
   "source": [
    "# One-line reduce-map-filter-reduce (return the sum of all odd squares of fibonacci)\n",
    "print(sum(filter(lambda x: x%2==1, map(lambda x: x**2, reduce(lambda x, _: x+[x[-1]+x[-2]], range(20-2), [0, 1])))))"
   ]
  }
 ],
 "metadata": {
  "kernelspec": {
   "display_name": "Python 3",
   "language": "python",
   "name": "python3"
  },
  "language_info": {
   "codemirror_mode": {
    "name": "ipython",
    "version": 3
   },
   "file_extension": ".py",
   "mimetype": "text/x-python",
   "name": "python",
   "nbconvert_exporter": "python",
   "pygments_lexer": "ipython3",
   "version": "3.13.2"
  }
 },
 "nbformat": 4,
 "nbformat_minor": 2
}
